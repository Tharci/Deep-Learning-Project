{
 "cells": [
  {
   "cell_type": "code",
   "execution_count": 1,
   "outputs": [],
   "source": [
    "import tensorflow as tf\n",
    "config = tf.compat.v1.ConfigProto()\n",
    "config.gpu_options.allow_growth = True\n",
    "sess = tf.compat.v1.Session(config=config)\n",
    "\n",
    "physical_devices = tf.config.experimental.list_physical_devices('GPU')\n",
    "if len(physical_devices) > 0:\n",
    "    tf.config.experimental.set_memory_growth(physical_devices[0], True)"
   ],
   "metadata": {
    "collapsed": false
   }
  },
  {
   "cell_type": "code",
   "execution_count": 2,
   "outputs": [],
   "source": [
    "from __future__ import print_function\n",
    "from tensorflow import keras\n",
    "import numpy as np\n",
    "import cv2\n",
    "import matplotlib.pyplot as plt\n",
    "from preprocess import *\n",
    "from utils import *"
   ],
   "metadata": {
    "collapsed": false
   }
  },
  {
   "cell_type": "code",
   "execution_count": 3,
   "outputs": [],
   "source": [
    "# Load the TensorBoard notebook extension\n",
    "%load_ext tensorboard"
   ],
   "metadata": {
    "collapsed": false
   }
  },
  {
   "cell_type": "markdown",
   "source": [
    "# Image loading and preprocessing\n"
   ],
   "metadata": {
    "collapsed": false
   }
  },
  {
   "cell_type": "code",
   "execution_count": null,
   "outputs": [],
   "source": [
    "crop_size = (256, 256)\n",
    "\n",
    "def preprocess_generator_train_test(generator):\n",
    "    while True:\n",
    "        batch = next(generator)\n",
    "        batch_crops = np.zeros((batch.shape[0], crop_size[0], crop_size[1], 3))\n",
    "        for i in range(batch.shape[0]):\n",
    "            batch_crops[i] = crop_img(batch[i], crop_size)\n",
    "            batch_crops[i] = center_img(batch_crops[i]) # shift to -1,1\n",
    "        yield batch_crops, batch_crops\n",
    "\n",
    "\n",
    "def preprocess_generator_slice(generator):\n",
    "    while True:\n",
    "        batch = next(generator)\n",
    "        for img in batch:\n",
    "            img = center_img(img)\n",
    "            yield slice_img(img, crop_size)\n",
    "\n",
    "\n",
    "### 720p\n",
    "# image_width_target = 1280 // 2\n",
    "# image_height_target = 720 // 2\n",
    "#\n",
    "# train_ds, test_ds = create_dataflows('images/HollowKnight/', (image_height_target, image_width_target), 16)\n",
    "#\n",
    "# train_ds_prep = preprocess_generator_train_test(train_ds)\n",
    "# test_ds_prep = preprocess_generator_train_test(test_ds)\n",
    "\n",
    "### 1080p\n",
    "image_width_target = 1280\n",
    "image_height_target = 720\n",
    "\n",
    "# In the '../images/HollowKnight-1080p/' folder an additional folder is needed, which will contain all the images !\n",
    "train_ds, test_ds = create_dataflows('images/HollowKnight-1080p/', (image_height_target, image_width_target), 16)\n",
    "\n",
    "train_ds_prep = preprocess_generator_train_test(train_ds)\n",
    "test_ds_prep = preprocess_generator_train_test(test_ds)\n",
    "\n",
    "### General dataset\n",
    "# image_width_target = 300\n",
    "# image_height_target = 300\n",
    "#\n",
    "# train_ds, test_ds = create_dataflows('images/HollowKnight/', (image_height_target, image_width_target), 16)\n",
    "#\n",
    "# train_ds_prep = preprocess_generator_train_test(train_ds)\n",
    "# test_ds_prep = preprocess_generator_train_test(test_ds)"
   ],
   "metadata": {
    "collapsed": false,
    "pycharm": {
     "is_executing": true
    }
   }
  },
  {
   "cell_type": "code",
   "execution_count": null,
   "outputs": [],
   "source": [
    "plt.figure(figsize=(50, 50))\n",
    "images = next(train_ds_prep)\n",
    "for i, image in enumerate(images[0][:2]):\n",
    "    ax = plt.subplot(5, 1, i + 1)\n",
    "    plt.imshow(decenter_img(image))\n",
    "    plt.axis(\"off\")\n",
    "\n",
    "train_ds.reset()"
   ],
   "metadata": {
    "collapsed": false,
    "pycharm": {
     "is_executing": true
    }
   }
  },
  {
   "cell_type": "markdown",
   "source": [
    "# The Model of the AutoEncoder"
   ],
   "metadata": {
    "collapsed": false
   }
  },
  {
   "cell_type": "code",
   "execution_count": 49,
   "outputs": [],
   "source": [
    "def ssim_loss(y_true, y_pred):\n",
    "    return 1 - tensorflow.reduce_mean(tensorflow.image.ssim_multiscale(decenter_img(y_true), decenter_img(y_pred), 1.0, filter_size=3))"
   ],
   "metadata": {
    "collapsed": false
   }
  },
  {
   "cell_type": "code",
   "execution_count": 74,
   "outputs": [],
   "source": [
    "from keras import backend as K, losses\n",
    "from keras.layers import Input, Conv2D, MaxPooling2D, Activation, ZeroPadding2D, BatchNormalization, Conv2DTranspose, \\\n",
    "    UpSampling2D, concatenate, DepthwiseConv2D\n",
    "from keras.models import Model, Sequential\n",
    "\n",
    "\n",
    "def create_block(model, layers):\n",
    "    model.add(DepthwiseConv2D(kernel_size=(3, 3), strides=1, kernel_initializer='he_normal', padding='same'))\n",
    "    model.add(BatchNormalization())\n",
    "    model.add(Activation('leaky_relu'))\n",
    "\n",
    "    model.add(Conv2D(layers, kernel_size=(1, 1), strides=1, kernel_initializer='he_normal', padding='same'))\n",
    "    model.add(BatchNormalization())\n",
    "    model.add(Activation('leaky_relu'))\n",
    "\n",
    "def create_downscale_block(model, layers):\n",
    "    model.add(DepthwiseConv2D(kernel_size=(2, 2), strides=2, kernel_initializer='he_normal', padding='same'))\n",
    "    model.add(BatchNormalization())\n",
    "    model.add(Activation('leaky_relu'))\n",
    "\n",
    "    model.add(Conv2D(layers, kernel_size=(1, 1), strides=1, kernel_initializer='he_normal', padding='same'))\n",
    "    model.add(BatchNormalization())\n",
    "    model.add(Activation('leaky_relu'))\n",
    "\n",
    "def create_upscale_block(model, layers):\n",
    "    model.add(Conv2DTranspose(layers, kernel_size=(3, 3), strides=(2, 2), padding='same', kernel_initializer='he_normal'))\n",
    "    model.add(BatchNormalization())\n",
    "    model.add(Activation('leaky_relu'))\n",
    "\n",
    "def create_improved_baseline_model_12x_comp(image_size):\n",
    "    ### Encoder ###\n",
    "\n",
    "    model = Sequential()\n",
    "    model.add(Conv2D(16, kernel_size=(3, 3), strides=(2, 2), kernel_initializer='he_normal',\n",
    "                     padding='same', input_shape=(image_size[0], image_size[1], 3)))\n",
    "    model.add(BatchNormalization())\n",
    "    model.add(Activation('leaky_relu'))\n",
    "\n",
    "    create_block(model, 16)\n",
    "\n",
    "    create_block(model, 16)\n",
    "\n",
    "    create_downscale_block(model, 32)\n",
    "\n",
    "    create_block(model, 32)\n",
    "\n",
    "    create_block(model, 32)\n",
    "\n",
    "    create_downscale_block(model, 64)\n",
    "\n",
    "    create_block(model, 64)\n",
    "\n",
    "    create_block(model, 64)\n",
    "\n",
    "    model.add(Conv2D(8, kernel_size=(3, 3), kernel_initializer='he_normal', padding='same'))\n",
    "    model.add(BatchNormalization())\n",
    "    model.add(Activation('leaky_relu', name='encoded', dtype='float16'))\n",
    "\n",
    "\n",
    "    ### Decoder ###\n",
    "\n",
    "    create_block(model, 64)\n",
    "\n",
    "    create_block(model, 64)\n",
    "\n",
    "    create_upscale_block(model, 32)\n",
    "\n",
    "    create_block(model, 32)\n",
    "\n",
    "    create_block(model, 32)\n",
    "\n",
    "    create_block(model, 32)\n",
    "\n",
    "    create_upscale_block(model, 16)\n",
    "\n",
    "    create_block(model, 16)\n",
    "\n",
    "    create_block(model, 16)\n",
    "\n",
    "    model.add(Conv2DTranspose(3, kernel_size=(3, 3), strides=(2, 2), activation='tanh', padding='same', name='decoded'))\n",
    "\n",
    "    print((\"shape of encoded\", K.int_shape(model.get_layer('encoded').output)))\n",
    "    print((\"shape of decoded\", K.int_shape(model.get_layer('decoded').output)))\n",
    "\n",
    "    return model"
   ],
   "metadata": {
    "collapsed": false
   }
  },
  {
   "cell_type": "markdown",
   "source": [
    "# Training the AutoEncoder"
   ],
   "metadata": {
    "collapsed": false
   }
  },
  {
   "cell_type": "code",
   "execution_count": null,
   "outputs": [],
   "source": [
    "# Note: Delete the logs before running this. The command below should do this, but I would prefer to do it manually.\n",
    "# !RMDIR \"./logs/\" /S /Q\n",
    "\n",
    "# Launching Tensorboard\n",
    "%tensorboard --logdir ./logs/fit --host localhost #--port:6006\n",
    "# localhost:6006 in browser"
   ],
   "metadata": {
    "collapsed": false
   }
  },
  {
   "cell_type": "code",
   "execution_count": 9,
   "outputs": [],
   "source": [
    "from keras.callbacks import CSVLogger, TensorBoard\n",
    "import datetime\n",
    "\n",
    "log_dir = \"logs/fit/\" + datetime.datetime.now().strftime(\"%Y%m%d-%H%M%S\")\n",
    "tensorboard_callback = TensorBoard(log_dir=log_dir, histogram_freq=1)\n",
    "\n",
    "# Set APPEND=TRUE if you are continuing the training, so that the log.csv wouldn't be reset!\n",
    "csv_logger = CSVLogger('log.csv', append=False, separator=';')"
   ],
   "metadata": {
    "collapsed": false
   }
  },
  {
   "cell_type": "code",
   "execution_count": null,
   "outputs": [],
   "source": [
    "autoencoder = create_improved_baseline_model_12x_comp(crop_size)\n",
    "autoencoder.summary()"
   ],
   "metadata": {
    "collapsed": false,
    "pycharm": {
     "is_executing": true
    }
   }
  },
  {
   "cell_type": "code",
   "execution_count": null,
   "outputs": [],
   "source": [
    "autoencoder.compile(optimizer=keras.optimizers.Adam(learning_rate=0.001), loss='mae')\n",
    "autoencoder.fit(train_ds_prep,\n",
    "                validation_data=test_ds_prep,\n",
    "                steps_per_epoch=train_ds.n // train_ds.batch_size,\n",
    "                validation_steps=test_ds.n // test_ds.batch_size,\n",
    "                epochs=3,\n",
    "                callbacks=[csv_logger, tensorboard_callback],\n",
    "                verbose=1)"
   ],
   "metadata": {
    "collapsed": false,
    "pycharm": {
     "is_executing": true
    }
   }
  },
  {
   "cell_type": "code",
   "execution_count": 77,
   "outputs": [],
   "source": [
    "autoencoder.compile(optimizer=keras.optimizers.Adam(learning_rate=0.001), loss=ssim_loss)"
   ],
   "metadata": {
    "collapsed": false
   }
  },
  {
   "cell_type": "code",
   "execution_count": null,
   "outputs": [],
   "source": [
    "autoencoder.fit(train_ds_prep,\n",
    "                validation_data = test_ds_prep,\n",
    "                steps_per_epoch = train_ds.n // train_ds.batch_size,\n",
    "                validation_steps = test_ds.n // test_ds.batch_size,\n",
    "                epochs=200,\n",
    "                callbacks=[csv_logger, tensorboard_callback],\n",
    "                verbose=1)"
   ],
   "metadata": {
    "collapsed": false,
    "pycharm": {
     "is_executing": true
    }
   }
  },
  {
   "cell_type": "code",
   "execution_count": null,
   "outputs": [],
   "source": [
    "# Saving the model:\n",
    "autoencoder.save('model-saves/depthwise-1080-200epoch')"
   ],
   "metadata": {
    "collapsed": false,
    "pycharm": {
     "is_executing": true
    }
   }
  },
  {
   "cell_type": "code",
   "execution_count": 7,
   "outputs": [],
   "source": [
    "# Loading the model:\n",
    "# autoencoder = keras.models.load_model('model-saves/final-1080p-850epoch', custom_objects={\n",
    "#     'ssim_loss': ssim_loss\n",
    "# })\n",
    "\n",
    "# autoencoder.summary()"
   ],
   "metadata": {
    "collapsed": false
   }
  },
  {
   "cell_type": "markdown",
   "source": [
    "# Running the AutoEncoder"
   ],
   "metadata": {
    "collapsed": false
   }
  },
  {
   "cell_type": "code",
   "execution_count": 80,
   "outputs": [],
   "source": [
    "img_number = 4\n",
    "display_img_number = 4\n",
    "\n",
    "test_set = []\n",
    "for i in range(img_number):\n",
    "    test_set.append(next(preprocess_generator_slice(train_ds)))"
   ],
   "metadata": {
    "collapsed": false
   }
  },
  {
   "cell_type": "code",
   "execution_count": null,
   "outputs": [],
   "source": [
    "img_size = (image_height_target, image_width_target, 3)\n",
    "\n",
    "fig = plt.figure(figsize=(30, 30))\n",
    "\n",
    "ssim_values = []\n",
    "for i in range(img_number):\n",
    "    image_slices = test_set[i]\n",
    "\n",
    "    decoded_slices = autoencoder.predict(image_slices)\n",
    "    decoded_img = deslice_img(decoded_slices, img_size)\n",
    "    decoded_img = decenter_img(decoded_img)\n",
    "\n",
    "    original_image = decenter_img(deslice_img(image_slices, img_size))\n",
    "\n",
    "    ssim = 1 - tensorflow.image.ssim_multiscale(original_image, decoded_img, 1.0, filter_size=3)\n",
    "    ssim_values.append(ssim)\n",
    "    print(ssim.numpy())\n",
    "\n",
    "    if i < display_img_number:\n",
    "        plt.subplot(display_img_number, 2, i*2+1)\n",
    "        plt.imshow(original_image)\n",
    "        plt.subplot(display_img_number, 2, i*2+2)\n",
    "        plt.imshow(decoded_img)\n",
    "\n",
    "print(\"AVERAGE SSIM: \")\n",
    "print(np.array(ssim_values).mean())\n",
    "\n",
    "# rescaled_img = cv2.resize(decenter_img(in_img), (in_img.shape[0] // 3, in_img.shape[1] // 3))"
   ],
   "metadata": {
    "collapsed": false,
    "pycharm": {
     "is_executing": true
    }
   }
  },
  {
   "cell_type": "markdown",
   "source": [
    "## Visualize the individual tiles"
   ],
   "metadata": {
    "collapsed": false
   }
  },
  {
   "cell_type": "code",
   "execution_count": null,
   "outputs": [],
   "source": [
    "img_size = (image_height_target, image_width_target, 3)\n",
    "\n",
    "fig = plt.figure(figsize=(10, 30))\n",
    "\n",
    "image_slices = test_set[0]\n",
    "decoded_slices = autoencoder.predict(image_slices)\n",
    "\n",
    "for i in range(len(decoded_slices)):\n",
    "    original_image = decenter_img(decoded_slices[i])\n",
    "\n",
    "    plt.subplot(display_img_number, 2, i*2+1)\n",
    "    plt.imshow(decenter_img(test_set[0][i]))\n",
    "    plt.subplot(display_img_number, 2, i*2+2)\n",
    "    plt.imshow(decenter_img(decoded_slices[i]))\n",
    "\n",
    "# rescaled_img = cv2.resize(decenter_img(in_img), (in_img.shape[0] // 3, in_img.shape[1] // 3))"
   ],
   "metadata": {
    "collapsed": false,
    "pycharm": {
     "is_executing": true
    }
   }
  },
  {
   "cell_type": "markdown",
   "source": [
    "## Compare original/decoded/jpeg images"
   ],
   "metadata": {
    "collapsed": false
   }
  },
  {
   "cell_type": "code",
   "execution_count": null,
   "outputs": [],
   "source": [
    "from pathlib import Path\n",
    "from keras.utils import load_img, save_img, img_to_array\n",
    "\n",
    "img_size = (image_height_target, image_width_target, 3)\n",
    "\n",
    "encoder, decoder = split_autoencoder(autoencoder)\n",
    "\n",
    "output_path = \"./output/\"\n",
    "# fig = plt.figure(figsize=(30, 30))\n",
    "\n",
    "tf.compat.v1.enable_eager_execution()\n",
    "\n",
    "\n",
    "for i in range(display_img_number):\n",
    "    print(i)\n",
    "\n",
    "    path = output_path + str(i) + \"_\"\n",
    "\n",
    "    original_path = path + \"original.jpg\"\n",
    "    encoded_path = path + \"encoded.npz\"\n",
    "    decoded_path = path + \"decoded.jpg\"\n",
    "    jpeg_path = path + \"jpeg.jpg\"\n",
    "\n",
    "    # Original image\n",
    "    image_slices = test_set[i]\n",
    "    original_img = decenter_img(deslice_img(image_slices, img_size))\n",
    "    original_bgr = original_img.copy()[...,::-1] * 255\n",
    "\n",
    "    cv2.imwrite(original_path, original_bgr, [int(cv2.IMWRITE_JPEG_QUALITY), 100]) # CHANGED!!!: now the original image is not compressed JPEG instead of keras' solution (Note: this makes the original image large)\n",
    "\n",
    "    #save_img(original_path, original_img)\n",
    "    # print(\"Original min,max,avg\",original_img.min(), original_img.mean(), original_img.max())\n",
    "\n",
    "    original_file_size = Path(original_path).stat().st_size * 8\n",
    "    bpp_original = float(original_file_size) / (image_height_target * image_width_target)\n",
    "\n",
    "    # Encoed image\n",
    "    encoded_slices = encoder.predict(image_slices)\n",
    "    save_encoded(img_size, encoded_slices, encoded_path)\n",
    "    # use version loaded from the file, just to prove that it works\n",
    "    (size, slices) = load_encoded(encoded_path)\n",
    "\n",
    "    decoded_slices = decoder.predict(slices)\n",
    "    decoded_img = decenter_img(deslice_img(decoded_slices, size))\n",
    "    save_img(decoded_path, decoded_img)\n",
    "    # print(\"Decoded min,max,avg\", decoded_img.min(), decoded_img.mean(), decoded_img.max())\n",
    "\n",
    "    encoded_file_size = Path(encoded_path).stat().st_size * 8\n",
    "    bpp = float(encoded_file_size) / (image_height_target * image_width_target)\n",
    "    ssim = 1 - tensorflow.image.ssim_multiscale(original_img, decoded_img, 1.0, filter_size=3)\n",
    "\n",
    "    # JPEG compressed\n",
    "    jpeg_compression_rate = 95\n",
    "    cv2.imwrite(jpeg_path, original_bgr, [int(cv2.IMWRITE_JPEG_QUALITY), jpeg_compression_rate])\n",
    "\n",
    "    jpeg_img = img_to_array(load_img(jpeg_path)).astype('float64') / 255\n",
    "    # print(\"JPEG min,max,avg\", jpeg_img.min(), jpeg_img.mean(), jpeg_img.max())\n",
    "    # print(\"OriG min,max,avg\",original_img.min(), original_img.mean(), original_img.max())\n",
    "\n",
    "    jpeg_file_size = Path(jpeg_path).stat().st_size * 8\n",
    "    bpp_j = float(jpeg_file_size) / (image_height_target * image_width_target)\n",
    "    ssim_j = 1 - tensorflow.image.ssim_multiscale(original_img, jpeg_img, 1.0, filter_size=3)\n",
    "\n",
    "    # Results\n",
    "    print(\"BPP of original:\", bpp_original)\n",
    "    print(\"BPP of encoded:\", bpp)\n",
    "    print(\"SSIM of decoded:\", float(ssim))\n",
    "    print(\"BPP of jpeg:\", bpp_j)\n",
    "    print(\"SSIM of jpeg:\", float(ssim_j))\n",
    "    print()"
   ],
   "metadata": {
    "collapsed": false,
    "pycharm": {
     "is_executing": true
    }
   }
  },
  {
   "cell_type": "markdown",
   "source": [
    "# Visualizing layers"
   ],
   "metadata": {
    "collapsed": false
   }
  },
  {
   "cell_type": "code",
   "execution_count": 14,
   "outputs": [
    {
     "data": {
      "text/plain": "<PIL.Image.Image image mode=RGBA size=1541x414>",
      "image/png": "[encoded data removed]"
     },
     "execution_count": 14,
     "metadata": {},
     "output_type": "execute_result"
    }
   ],
   "source": [
    "import visualkeras\n",
    "from PIL import ImageFont\n",
    "from collections import defaultdict\n",
    "\n",
    "font = ImageFont.truetype(\"arial.ttf\", 32)\n",
    "\n",
    "color_map = defaultdict(dict)\n",
    "color_map[Conv2DTranspose]['fill'] = 'forestgreen'\n",
    "color_map[BatchNormalization]['fill'] = 'slateblue'\n",
    "\n",
    "encoder, decoder = split_autoencoder(autoencoder)\n",
    "\n",
    "visualkeras.layered_view(encoder, legend=True, font=font, draw_volume=True, spacing=20, scale_xy=1, scale_z=1, color_map=color_map)#, type_ignore=[BatchNormalization, Activation])"
   ],
   "metadata": {
    "collapsed": false
   }
  },
  {
   "cell_type": "code",
   "execution_count": 15,
   "outputs": [
    {
     "data": {
      "text/plain": "<PIL.Image.Image image mode=RGBA size=1616x414>",
      "image/png": "[encoded data removed]"
     },
     "execution_count": 15,
     "metadata": {},
     "output_type": "execute_result"
    }
   ],
   "source": [
    "visualkeras.layered_view(decoder, legend=True, font=font, draw_volume=True, spacing=20, scale_xy=1, scale_z=1, color_map=color_map)#, type_ignore=[Activation, BatchNormalization])"
   ],
   "metadata": {
    "collapsed": false
   }
  },
  {
   "cell_type": "code",
   "execution_count": 20,
   "outputs": [
    {
     "name": "stdout",
     "output_type": "stream",
     "text": [
      "           OPERATION           DATA DIMENSIONS   WEIGHTS(N)   WEIGHTS(%)\n",
      "\n",
      "               Input   #####    256  256    3\n",
      "              Conv2D    \\|/  -------------------       448     0.2%\n",
      "                       #####    128  128   16\n",
      "  BatchNormalization    μ|σ  -------------------        64     0.0%\n",
      "          leaky_relu   #####    128  128   16\n",
      "              Conv2D    \\|/  -------------------      2320     1.2%\n",
      "                       #####    128  128   16\n",
      "  BatchNormalization    μ|σ  -------------------        64     0.0%\n",
      "          leaky_relu   #####    128  128   16\n",
      "              Conv2D    \\|/  -------------------      2320     1.2%\n",
      "                       #####    128  128   16\n",
      "  BatchNormalization    μ|σ  -------------------        64     0.0%\n",
      "          leaky_relu   #####    128  128   16\n",
      "              Conv2D    \\|/  -------------------      4640     2.5%\n",
      "                       #####     64   64   32\n",
      "  BatchNormalization    μ|σ  -------------------       128     0.1%\n",
      "          leaky_relu   #####     64   64   32\n",
      "              Conv2D    \\|/  -------------------      9248     4.9%\n",
      "                       #####     64   64   32\n",
      "  BatchNormalization    μ|σ  -------------------       128     0.1%\n",
      "          leaky_relu   #####     64   64   32\n",
      "              Conv2D    \\|/  -------------------      9248     4.9%\n",
      "                       #####     64   64   32\n",
      "  BatchNormalization    μ|σ  -------------------       128     0.1%\n",
      "          leaky_relu   #####     64   64   32\n",
      "              Conv2D    \\|/  -------------------     18496     9.8%\n",
      "                       #####     32   32   64\n",
      "  BatchNormalization    μ|σ  -------------------       256     0.1%\n",
      "          leaky_relu   #####     32   32   64\n",
      "              Conv2D    \\|/  -------------------     36928    19.6%\n",
      "                       #####     32   32   64\n",
      "  BatchNormalization    μ|σ  -------------------       256     0.1%\n",
      "          leaky_relu   #####     32   32   64\n",
      "              Conv2D    \\|/  -------------------      4616     2.5%\n",
      "                       #####     32   32    8\n",
      "  BatchNormalization    μ|σ  -------------------        32     0.0%\n",
      "          leaky_relu   #####     32   32    8\n",
      "     Conv2DTranspose    /|\\  -------------------      4672     2.5%\n",
      "                       #####     32   32   64\n",
      "  BatchNormalization    μ|σ  -------------------       256     0.1%\n",
      "          leaky_relu   #####     32   32   64\n",
      "     Conv2DTranspose    /|\\  -------------------     36928    19.6%\n",
      "                       #####     32   32   64\n",
      "  BatchNormalization    μ|σ  -------------------       256     0.1%\n",
      "          leaky_relu   #####     32   32   64\n",
      "     Conv2DTranspose    /|\\  -------------------     18464     9.8%\n",
      "                       #####     64   64   32\n",
      "  BatchNormalization    μ|σ  -------------------       128     0.1%\n",
      "          leaky_relu   #####     64   64   32\n",
      "     Conv2DTranspose    /|\\  -------------------      9248     4.9%\n",
      "                       #####     64   64   32\n",
      "  BatchNormalization    μ|σ  -------------------       128     0.1%\n",
      "          leaky_relu   #####     64   64   32\n",
      "     Conv2DTranspose    /|\\  -------------------      9248     4.9%\n",
      "                       #####     64   64   32\n",
      "  BatchNormalization    μ|σ  -------------------       128     0.1%\n",
      "          leaky_relu   #####     64   64   32\n",
      "     Conv2DTranspose    /|\\  -------------------      9248     4.9%\n",
      "                       #####     64   64   32\n",
      "  BatchNormalization    μ|σ  -------------------       128     0.1%\n",
      "          leaky_relu   #####     64   64   32\n",
      "     Conv2DTranspose    /|\\  -------------------      4624     2.5%\n",
      "                       #####    128  128   16\n",
      "  BatchNormalization    μ|σ  -------------------        64     0.0%\n",
      "          leaky_relu   #####    128  128   16\n",
      "     Conv2DTranspose    /|\\  -------------------      2320     1.2%\n",
      "                       #####    128  128   16\n",
      "  BatchNormalization    μ|σ  -------------------        64     0.0%\n",
      "          leaky_relu   #####    128  128   16\n",
      "     Conv2DTranspose    /|\\  -------------------      2320     1.2%\n",
      "                       #####    128  128   16\n",
      "  BatchNormalization    μ|σ  -------------------        64     0.0%\n",
      "          leaky_relu   #####    128  128   16\n",
      "     Conv2DTranspose    /|\\  -------------------       435     0.2%\n",
      "                tanh   #####    256  256    3\n"
     ]
    }
   ],
   "source": [
    "from keras_sequential_ascii import keras2ascii\n",
    "keras2ascii(autoencoder)"
   ],
   "metadata": {
    "collapsed": false
   }
  },
  {
   "cell_type": "code",
   "execution_count": null,
   "outputs": [],
   "source": [],
   "metadata": {
    "collapsed": false
   }
  }
 ],
 "metadata": {
  "kernelspec": {
   "display_name": "Python 3",
   "language": "python",
   "name": "python3"
  },
  "language_info": {
   "codemirror_mode": {
    "name": "ipython",
    "version": 2
   },
   "file_extension": ".py",
   "mimetype": "text/x-python",
   "name": "python",
   "nbconvert_exporter": "python",
   "pygments_lexer": "ipython2",
   "version": "2.7.6"
  }
 },
 "nbformat": 4,
 "nbformat_minor": 0
}
